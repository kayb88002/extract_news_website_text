{
 "cells": [
  {
   "cell_type": "code",
   "execution_count": 8,
   "metadata": {},
   "outputs": [],
   "source": [
    "import urllib.request\n",
    "import requests\n",
    "import re\n",
    "import time\n",
    "from newspaper import Article\n",
    "# query=input(\"Enter the query: \")\n",
    "url = \"https://www.livemint.com/mostpopular\"\n",
    "\n",
    "from bs4 import BeautifulSoup\n",
    "\n",
    "headers = {'User-Agent': 'Mozilla/5.0'}\n",
    "\n",
    "r = requests.get(url, headers=headers)\n",
    "\n",
    "\n",
    "soup = BeautifulSoup(r.text, 'html.parser')"
   ]
  },
  {
   "cell_type": "code",
   "execution_count": 9,
   "metadata": {
    "scrolled": true
   },
   "outputs": [
    {
     "data": {
      "text/plain": [
       "[<div class=\"headlineSec\"><h2 class=\"headline\" id=\"listheadline_11613024664150\"><a data-vars-storyid=\"11613024664150\" href=\"/auto-news/royal-enfield-launches-2021-himalayan-with-three-new-colours-tripper-navigation-11613024664150.html\">Royal Enfield launches 2021 Himalayan with three new colours, tripper navigation</a></h2><div class=\"clearfix\"><span class=\"fl date\"><em><span id=\"tmread_11613024664150\">1 min read</span></em> <strong>.</strong> <span data-expandedtime=\"Updated: 11 Feb 2021, 12:18 PM IST\" data-updatedlongtime=\"12:18 PM IST\" data-updatedtime=\"2021-02-11T12:18:26\" id=\"tListBox_11613024664150\">12:18 PM IST</span></span><a class=\"icoBookmark2 iconSprite bookmark_11613024664150\" data-vars-storyid=\"11613024664150 bookmark-candidate\" id=\"bookmark_11613024664150\" onclick=\"bookmarkFunc(this)\"></a></div></div>,\n",
       " <div class=\"headlineSec\"><h2 class=\"headline\" id=\"listheadline_11613027173480\"><a data-vars-storyid=\"11613027173480\" href=\"/industry/advertising/oyos-ad-campaign-featuring-neena-gupta-goes-viral-11613027173480.html\">Oyo's ad campaign featuring Neena Gupta goes viral</a></h2><div class=\"clearfix\"><span class=\"fl date\"><em><span id=\"tmread_11613027173480\">2 min read</span></em> <strong>.</strong> <span data-expandedtime=\"Updated: 11 Feb 2021, 12:46 PM IST\" data-updatedlongtime=\"12:46 PM IST\" data-updatedtime=\"2021-02-11T12:46:10\" id=\"tListBox_11613027173480\">12:46 PM IST</span></span><a class=\"icoBookmark2 iconSprite bookmark_11613027173480\" data-vars-storyid=\"11613027173480 bookmark-candidate\" id=\"bookmark_11613027173480\" onclick=\"bookmarkFunc(this)\"></a></div></div>,\n",
       " <div class=\"headlineSec\"><h2 class=\"headline\" id=\"listheadline_11613021405042\"><a data-vars-storyid=\"11613021405042\" href=\"/companies/news/happiest-minds-net-profit-up-97-sees-strong-deal-pipeline-11613021405042.html\">Happiest Minds net profit up 97%, sees strong deal pipeline</a></h2><div class=\"clearfix\"><span class=\"fl date\"><em><span id=\"tmread_11613021405042\">1 min read</span></em> <strong>.</strong> <span data-expandedtime=\"Updated: 11 Feb 2021, 11:05 AM IST\" data-updatedlongtime=\"11:05 AM IST\" data-updatedtime=\"2021-02-11T11:05:30\" id=\"tListBox_11613021405042\">11:05 AM IST</span></span><a class=\"icoBookmark2 iconSprite bookmark_11613021405042\" data-vars-storyid=\"11613021405042 bookmark-candidate\" id=\"bookmark_11613021405042\" onclick=\"bookmarkFunc(this)\"></a></div></div>,\n",
       " <div class=\"headlineSec\"><h2 class=\"headline\" id=\"listheadline_11613014832722\"><a data-vars-storyid=\"11613014832722\" href=\"/news/india/canadian-pm-calls-modi-for-vaccine-supply-11613014832722.html\">Canadian PM calls Modi for vaccine supply</a></h2><div class=\"clearfix\"><span class=\"fl date\"><em><span id=\"tmread_11613014832722\">1 min read</span></em> <strong>.</strong> <span data-expandedtime=\"Updated: 11 Feb 2021, 09:21 AM IST\" data-updatedlongtime=\"09:21 AM IST\" data-updatedtime=\"2021-02-11T09:21:56\" id=\"tListBox_11613014832722\">09:21 AM IST</span></span><a class=\"icoBookmark2 iconSprite bookmark_11613014832722\" data-vars-storyid=\"11613014832722 bookmark-candidate\" id=\"bookmark_11613014832722\" onclick=\"bookmarkFunc(this)\"></a></div></div>,\n",
       " <div class=\"headlineSec\"><h2 class=\"headline\" id=\"listheadline_11613011126376\"><a data-vars-storyid=\"11613011126376\" href=\"/market/stock-market-news/markets-likely-to-consolidate-itc-coal-india-magma-fincorp-in-focus-11613011126376.html\">Markets likely to consolidate; ITC, Coal India, Magma Fincorp in focus</a></h2><div class=\"clearfix\"><span class=\"fl date\"><em><span id=\"tmread_11613011126376\">2 min read</span></em> <strong>.</strong> <span data-expandedtime=\"Updated: 11 Feb 2021, 08:25 AM IST\" data-updatedlongtime=\"08:25 AM IST\" data-updatedtime=\"2021-02-11T08:25:25\" id=\"tListBox_11613011126376\">08:25 AM IST</span></span><a class=\"icoBookmark2 iconSprite bookmark_11613011126376\" data-vars-storyid=\"11613011126376 bookmark-candidate\" id=\"bookmark_11613011126376\" onclick=\"bookmarkFunc(this)\"></a></div></div>,\n",
       " <div class=\"headlineSec\"><h2 class=\"headline\" id=\"listheadline_11613026374727\"><a data-vars-storyid=\"11613026374727\" href=\"/market/mark-to-market/new-promoter-breathes-life-into-magma-fincorp-s-shares-11613026374727.html\">New promoter breathes life into Magma Fincorp’s shares</a></h2><div class=\"clearfix\"><span class=\"fl date\"><em><span id=\"tmread_11613026374727\">1 min read</span></em> <strong>.</strong> <span data-expandedtime=\"Updated: 11 Feb 2021, 12:35 PM IST\" data-updatedlongtime=\"12:35 PM IST\" data-updatedtime=\"2021-02-11T12:35:17\" id=\"tListBox_11613026374727\">12:35 PM IST</span></span><a class=\"icoBookmark2 iconSprite bookmark_11613026374727\" data-vars-storyid=\"11613026374727 bookmark-candidate\" id=\"bookmark_11613026374727\" onclick=\"bookmarkFunc(this)\"></a></div></div>,\n",
       " <div class=\"headlineSec\"><h2 class=\"headline\" id=\"listheadline_11613019853332\"><a data-vars-storyid=\"11613019853332\" href=\"/market/stock-market-news/railtel-corp-ipo-to-open-tuesday-to-raise-nearly-rs-820-crore-11613019853332.html\">RailTel Corp IPO to open Tuesday, to raise nearly  <span class=\"webrupee\">₹</span>820 crore</a></h2><div class=\"clearfix\"><span class=\"fl date\"><em><span id=\"tmread_11613019853332\">1 min read</span></em> <strong>.</strong> <span data-expandedtime=\"Updated: 11 Feb 2021, 10:53 AM IST\" data-updatedlongtime=\"10:53 AM IST\" data-updatedtime=\"2021-02-11T10:53:21\" id=\"tListBox_11613019853332\">10:53 AM IST</span></span><a class=\"icoBookmark2 iconSprite bookmark_11613019853332\" data-vars-storyid=\"11613019853332 bookmark-candidate\" id=\"bookmark_11613019853332\" onclick=\"bookmarkFunc(this)\"></a></div></div>,\n",
       " <div class=\"headlineSec\"><h2 class=\"headline\" id=\"listheadline_11613034417409\"><a data-vars-storyid=\"11613034417409\" href=\"/budget/news/nirmala-sitharaman-to-reply-on-budget-discussion-in-rajya-sabha-tomorrow-11613034417409.html\">Nirmala Sitharaman to reply on Budget discussion in Rajya Sabha tomorrow</a></h2><div class=\"clearfix\"><span class=\"fl date\"><em><span id=\"tmread_11613034417409\">1 min read</span></em> <strong>.</strong> <span data-expandedtime=\"Updated: 11 Feb 2021, 02:46 PM IST\" data-updatedlongtime=\"02:46 PM IST\" data-updatedtime=\"2021-02-11T14:46:56\" id=\"tListBox_11613034417409\">02:46 PM IST</span></span><a class=\"icoBookmark2 iconSprite bookmark_11613034417409\" data-vars-storyid=\"11613034417409 bookmark-candidate\" id=\"bookmark_11613034417409\" onclick=\"bookmarkFunc(this)\"></a></div></div>,\n",
       " <div class=\"headlineSec\"><h2 class=\"headline\" id=\"listheadline_11613034391946\"><a data-vars-storyid=\"11613034391946\" href=\"/news/india/covid19-saudi-arabia-bans-travel-from-20-countries-including-india-11613034391946.html\">COVID-19: Saudi Arabia bans travel from 20 countries, including India</a></h2><div class=\"clearfix\"><span class=\"fl date\"><em><span id=\"tmread_11613034391946\">1 min read</span></em> <strong>.</strong> <span data-expandedtime=\"Updated: 11 Feb 2021, 02:40 PM IST\" data-updatedlongtime=\"02:40 PM IST\" data-updatedtime=\"2021-02-11T14:40:26\" id=\"tListBox_11613034391946\">02:40 PM IST</span></span><a class=\"icoBookmark2 iconSprite bookmark_11613034391946\" data-vars-storyid=\"11613034391946 bookmark-candidate\" id=\"bookmark_11613034391946\" onclick=\"bookmarkFunc(this)\"></a></div></div>,\n",
       " <div class=\"headlineSec\"><h2 class=\"headline\" id=\"listheadline_11613016922155\"><a data-vars-storyid=\"11613016922155\" href=\"/news/india/us-says-committed-to-supporting-freedom-of-speech-amid-twitter-india-govt-spat-11613016922155.html\">US says committed to supporting freedom of speech amid Twitter-India govt spat</a></h2><div class=\"clearfix\"><span class=\"fl date\"><em><span id=\"tmread_11613016922155\">1 min read</span></em> <strong>.</strong> <span data-expandedtime=\"Updated: 11 Feb 2021, 09:55 AM IST\" data-updatedlongtime=\"09:55 AM IST\" data-updatedtime=\"2021-02-11T09:55:05\" id=\"tListBox_11613016922155\">09:55 AM IST</span></span><a class=\"icoBookmark2 iconSprite bookmark_11613016922155\" data-vars-storyid=\"11613016922155 bookmark-candidate\" id=\"bookmark_11613016922155\" onclick=\"bookmarkFunc(this)\"></a></div></div>]"
      ]
     },
     "execution_count": 9,
     "metadata": {},
     "output_type": "execute_result"
    }
   ],
   "source": [
    "news= soup.find_all(\"div\",class_=\"headlineSec\")\n",
    "news"
   ]
  },
  {
   "cell_type": "code",
   "execution_count": 16,
   "metadata": {},
   "outputs": [],
   "source": [
    "headlines=soup.findAll('div', attrs={'class':'headlineSec'})\n",
    "links=[]\n",
    "for div in headlines:\n",
    "    link=div.find('a')['href']\n",
    "    if not link.startswith('http'):\n",
    "        link = \"https://www.livemint.com/\"+link\n",
    "    links.append(link)"
   ]
  },
  {
   "cell_type": "code",
   "execution_count": 17,
   "metadata": {},
   "outputs": [
    {
     "data": {
      "text/plain": [
       "['https://www.livemint.com//auto-news/royal-enfield-launches-2021-himalayan-with-three-new-colours-tripper-navigation-11613024664150.html',\n",
       " 'https://www.livemint.com//industry/advertising/oyos-ad-campaign-featuring-neena-gupta-goes-viral-11613027173480.html',\n",
       " 'https://www.livemint.com//companies/news/happiest-minds-net-profit-up-97-sees-strong-deal-pipeline-11613021405042.html',\n",
       " 'https://www.livemint.com//news/india/canadian-pm-calls-modi-for-vaccine-supply-11613014832722.html',\n",
       " 'https://www.livemint.com//market/stock-market-news/markets-likely-to-consolidate-itc-coal-india-magma-fincorp-in-focus-11613011126376.html',\n",
       " 'https://www.livemint.com//market/mark-to-market/new-promoter-breathes-life-into-magma-fincorp-s-shares-11613026374727.html',\n",
       " 'https://www.livemint.com//market/stock-market-news/railtel-corp-ipo-to-open-tuesday-to-raise-nearly-rs-820-crore-11613019853332.html',\n",
       " 'https://www.livemint.com//budget/news/nirmala-sitharaman-to-reply-on-budget-discussion-in-rajya-sabha-tomorrow-11613034417409.html',\n",
       " 'https://www.livemint.com//news/india/covid19-saudi-arabia-bans-travel-from-20-countries-including-india-11613034391946.html',\n",
       " 'https://www.livemint.com//news/india/us-says-committed-to-supporting-freedom-of-speech-amid-twitter-india-govt-spat-11613016922155.html']"
      ]
     },
     "execution_count": 17,
     "metadata": {},
     "output_type": "execute_result"
    }
   ],
   "source": [
    "links"
   ]
  },
  {
   "cell_type": "code",
   "execution_count": 18,
   "metadata": {},
   "outputs": [],
   "source": [
    "# convert list to string \n",
    "# url=('\\n'.join(links))\n",
    "# print(url)\n",
    "corpus=list()\n",
    "from newspaper import Article\n",
    "for i in links:\n",
    "    article = Article(i)\n",
    "    article.download()\n",
    "    article.parse()\n",
    "    corpus.append(article.text)\n",
    "    \n",
    "time.sleep(10)"
   ]
  },
  {
   "cell_type": "code",
   "execution_count": 29,
   "metadata": {},
   "outputs": [
    {
     "name": "stdout",
     "output_type": "stream",
     "text": [
      "Royal Enfield has revealed the new 2021 version of its adventure tourer Himalayan. The new Himalayan comes with three new colours including a new Pine Green, Granite Black and Mirage Silver. The bike also gets new tripper navigation which was first seen on the Meteor 350.\n",
      "\n",
      "In terms of pricing, the bike has received a hike. The new Himalayan is now priced at ₹2,01,314 (ex-showroom Chennai).\n",
      "\n",
      "While the powertrain remains the same, the new Royal Enfield Himalayan comes with new seat, windscreen and rear carrier. The front rack of the bike has also been modified to carry jerry cans.\n",
      "\n",
      "The new tripper navigation system will allow users to get turn by turn directions which can be connected to the user's smartphone. The Tripper navigation pod will be powered Google Maps and Royal Enfield app.\n",
      "\n",
      "The engine remains the same for the 2021 Himalayan. The bike comes with a 411cc single-cylinder engine. The engine churns 24.3 bhp of power at 6500 rpm. The bike produces 32Nm of peak torque in the range of 4000 to 4500 rpm. The engine is mated to a 5-speed gearbox.\n",
      "\n",
      "Commenting on the journey of the Himalayan and the launch of the new motorcycle, Mr Vinod K Dasari, CEO, Royal Enfield said “In a short span of just 5 years, the Royal Enfield Himalayan has opened up a new category within global adventure touring, has successfully established itself as a truly global motorcycle, and has been among the most sought after motorcycle for Royal Enfield across several geographies. The originally developed 2016 Himalayan was a category first, and was a very versatile and accessible motorcycle. Over the years, together with feedback from our riding community, we have consistently evolved the Himalayan in design and functionality, and improved the overall ride experience. This has resonated very well with millions of adventure enthusiasts across the world, who now have new variants to choose from. With today’s launch, we are confident to further fuel the adventure touring space across the world.\"\n",
      "\n",
      "View Full Image The new Tripper Navigation\n",
      "\n",
      "View Full Image The new Granite Black colour\n",
      "\n",
      "View Full Image The new Mirage Silver colour\n",
      "\n",
      "Subscribe to Mint Newsletters * Enter a valid email * Thank you for subscribing to our newsletter.\n",
      "\n",
      "Share Via\n",
      "NEW DELIHI: Ahead of Valentine's Day and Women's Day, hospitality chain OYO Hotels & Homes has launched a digital campaign highlighting the role women play in taking travel decisions in a household. This earmarks a shift from a neutral position to a woman forward approach in its campaign by focusing on four main objectives - to enable, build aspiration, likeability, and communicate safety to its key stakeholder - women.\n",
      "\n",
      "Titled ‘Long-term relationship with OYO’, the digital film series depicts a middle-aged couple’s chemistry while travelling. In the first film, protagonists Swanand Kirkire and Neena Gupta engage in playful bickering on choosing the \"same hotel\" over and over. The film ends with Gupta’s ‘I am not bored, are you?’ hinting at a long-lasting relationship. The film has garnered over 2.1 million YouTube views on brand's official handle.\n",
      "\n",
      "Also Read | Inside the Mindtree makeover strategy\n",
      "\n",
      "The second film ‘Cosy Cosy’ revolves around a playful discussion of a planned cosy candlelight dinner that ends up with the wife deciding to call for in-room dining instead. The third and the fourth films are based on cute moments of appreciation between the two.\n",
      "\n",
      "“This time, through our consumer insights, we understood that among all cohorts, women are at the forefront of all decision-making, and therefore, wanted to bring this to life in a relatable way - something that everybody could connect with at a personal level. This led to the idea of campaign centred around a strong and spunky female character - portrayed by Neena Gupta,\" said Rohit Kapoor, chief executive - OYO India & South Asia.\n",
      "\n",
      "An OYO internal study has found that women were the key decision-makers when it came to booking a getaway, holiday, or vacation. In eight of ten cases, women drove the conversation and took the final decision around travel.\n",
      "\n",
      "Both, the concept of the campaign and script of the films were written by OYO’s in-house global brand team, with support from Oink Films on production. The film will go live across OYO’s digital channels (Google, YouTube), social media (Facebook, Instagram and Snapchat), and paid media assets including influencer engagement. OYO will roll out the film across over 45 digital platforms such as Inshorts, Sharechat, over-the-top (OTT) video streaming platforms platforms (Hotstar, MX Player, Sony Liv, Voot), music streaming apps (Gaana, Spotify, JioSaavn,) and dating apps (Tinder, Bumble and OkCupid).\n",
      "\n",
      "It will further amplify the films through an influencer campaign based on the theme #RishtaThodaKhiskaHai via a mix of celebrity and lifestyle influencers such as Smriti Khanna, Meeth Miri, Natasha Singh, and Siddhi MahaJankati, among others.\n",
      "\n",
      "Subscribe to Mint Newsletters * Enter a valid email * Thank you for subscribing to our newsletter.\n",
      "\n",
      "Share Via\n",
      "Bengaluru: IT services firm Happiest Minds Technologies Ltd posted a 97% year-on-year increase in net profit to ₹42.15 crore for the third quarter-ended December. The Bengaluru-based company's revenue grew 14.6% to ₹201.29 crore during the same period.\n",
      "\n",
      "“We have a strong deal pipeline on the back of increasing market demand and are thankful to all our customers for the trust they have reposed in us. Our people are our key strength and they continue to play a critical role in our growth and ensuring customer delight,\" said Joseph Anantharaju, executive vice chairman and CEO, Product Engineering Services, Happiest Minds.\n",
      "\n",
      "Also Read | Inside the Mindtree makeover strategy\n",
      "\n",
      "Revenue in US dollar terms grew 8.8% annually to $26.2 million on the back of improvement in deals as digital momentum continued to pick up. Digital comprises nearly 97% of the company’s total revenues, which is highest among its Indian peers. Within digital, cloud contributes 41% to the revenues.\n",
      "\n",
      "Earlier this year, Happiest Minds said it will acquire US-based Pimcore Global Services (PGS) for $8.25 million (about ₹60 crore). The acquisition is expected to “create greater digital capital for customers and facilitate onboarding more customer logos of strategic consequence,\" the company said. PGS’s clientele includes customers across retail, consumer packaged goods (CPG), and manufacturing verticals.\n",
      "\n",
      "Happiest Minds, which listed on the stock exchange last September, added 6 clients during the quarter taking the total number of clients to 155 as of 31 December.\n",
      "\n",
      "It made a net addition of 164 employees taking the total headcount to 2,885 employees as of the December quarter.\n",
      "\n",
      "The attrition rate on a trailing 12 months basis stood at 13.1% as compared to 14.1% in the preceding quarter. The utilization rate also improved to 81.6%, up from 78.7% in the preceding quarter ended September.\n",
      "\n",
      "Subscribe to Mint Newsletters * Enter a valid email * Thank you for subscribing to our newsletter.\n",
      "\n",
      "Share Via\n",
      "NEW DELHI: Canadian Prime Minister Justin Trudeau on Wednesday telephoned his Indian counterpart Narendra Modi seeking covid-19 vaccine supplies and lauding India’s role as the pharmacy of the world.\n",
      "\n",
      "During the conversation, the two leaders also discussed global economic recovery after the pandemic and challenges posed by climate change.\n",
      "\n",
      "Also Read | Inside the Mindtree makeover strategy\n",
      "\n",
      "“Was happy to receive a call from my friend @JustinTrudeau. Assured him that India would do its best to facilitate supplies of COVID vaccines sought by Canada. We also agreed to continue collaborating on other important issues like Climate Change and the global economic recovery,\" Modi said in a Twitter post.\n",
      "\n",
      "A readout of the conversation from Modi’s office later said: “Prime Minister Trudeau informed Prime Minister Modi about Canada's requirements of COVID-19 vaccines from India. Prime Minister assured the Canadian PM that India would do its best to support Canada's vaccination efforts, just as it had done for many other countries already.\"\n",
      "\n",
      "“Expressing his appreciation, Prime Minister Trudeau said that if the world managed to conquer COVID-19, it would be significantly because of India's tremendous pharmaceutical capacity, and Prime Minister Modi's leadership in sharing this capacity with the world. Prime Minister thanked PM Trudeau for his sentiments.\"\n",
      "\n",
      "India has so far sent vaccines to a number of countries — both as gifts as well as on a commercial basis. Some of the countries include the Dominican Republic, Saudi Arabia and Cambodia besides India’s immediate neighbours.\n",
      "\n",
      "“The two leaders also reiterated the common perspective shared by India and Canada on many important geo-political issues. They agreed to continue the close collaboration between both countries in fighting global challenges like Climate Change and the economic impacts of the pandemic,\" the Indian statement added.\n",
      "\n",
      "Subscribe to Mint Newsletters * Enter a valid email * Thank you for subscribing to our newsletter.\n",
      "\n",
      "Share Via\n",
      "Markets are likely to consolidate further on Thursday, while trends in SGX Nifty suggest a gap down opening for Indian benchmark share indices. On Wednesday, the BSE Sensex ended at 51,309.39, down 9.69 points. The 50-share index Nifty closed at 15,106.50, down 2.80 points.\n",
      "\n",
      "Asian shares rested at record highs as investors digested recent meaty gains, though the promise of endless free money to sustain buying was reaffirmed by benign US inflation data and a very dovish outlook from the Federal Reserve.\n",
      "\n",
      "Adding to the torpor was a lack of liquidity as markets in China, Japan, South Korea and Taiwan were all on holiday. Japan’s Nikkei was shut after ending at a 30-year peak on Wednesday, while Australia’s main index held near an 11-month top.\n",
      "\n",
      "Also Read | Inside the Mindtree makeover strategy\n",
      "\n",
      "Still, the outlook for more global stimulus got a major boost overnight from a surprisingly soft reading on core U.S. inflation, which eased to 1.4% in January.\n",
      "\n",
      "Federal Reserve Chair Jerome Powell said he wanted to see inflation at 2% or more before even thinking of tapering the bank’s super-easy policies.\n",
      "\n",
      "Notably, Powell emphasised that once pandemic effects were stripped out, unemployment was nearer 10% than the reported 6.3% and thus a long way from full employment. As a result, Powell called for a “society-wide commitment\" to reducing unemployment, which analysts saw as strong support for President Joe Biden $1.9 trillion stimulus package.\n",
      "\n",
      "Back home, India and China have begun simultaneously disengaging their troops at Pangong Tso lake in Ladakh as part of an agreement reached during the last round of military talks, the Chinese defence ministry said on Wednesday, a statement that India did not deny. In New Delhi, there was no official reaction to the Chinese claim, although defence minister Rajnath Singh was due to make a statement on Thursday.\n",
      "\n",
      "Major companies that will announce their December quarter results today are ITC, Coal India, Power Grid Corporation, ACC, Ashok Leyland, Atul Auto, Bajaj Hindusthan Sugar, Bosch, MRF, Natco Pharma and Oil India.\n",
      "\n",
      "Rising Sun Holdings (RSH) Pvt. Ltd, a company controlled by billionaire Adar Poonawalla, has agreed to buy a majority stake in Magma Fincorp Ltd in a deal valued at ₹3,456 crore. The deal will be executed through issuance of preferential shares by Magma Fincorp that will result in RSH taking a 60% stake in the non-banking financial company. The deal has triggered an open offer under the Securities and Exchange Board of India’s takeover code to buy up to 26% stake from public shareholders.\n",
      "\n",
      "The mix of endless Fed support and a tame inflation report was a salve for bond market pains and 10-year yields eased to 1.12%, from a 1.20% high early in the week. That in turn weighed on the U.S. dollar, which slipped to 90.451 on a basket of currencies and away from a 10-week top of 91.600 late last week.\n",
      "\n",
      "The dollar eased to 104.57 yen, from a recent peak 105.76, while the euro rallied to $1.2117 from its low of $1.1950.\n",
      "\n",
      "In commodity markets, gold was sidelined at $1,839 an ounce as investors drove platinum to a six-year peak on bets of more demand from the automobile sector.\n",
      "\n",
      "Oil prices took a breather, having enjoyed the longest winning streak in two years amid producer supply cuts and hopes vaccine rollouts will drive a recovery in demand.\n",
      "\n",
      "Brent crude futures eased back 50 cents to $60.97, while U.S. crude dipped 48 cents to $58.20 a barrel.\n",
      "\n",
      "(Reuters contributed to the story)\n",
      "\n",
      "Subscribe to Mint Newsletters * Enter a valid email * Thank you for subscribing to our newsletter.\n",
      "\n",
      "Share Via\n",
      "MUMBAI: Shares of non-bank financial company (NBFC) Magma Fincorp Ltd seem to have found a fresh lease of life, after languishing for more than a year, with the entry of a new promoter.\n",
      "\n",
      "Rising Sun Holdings Ltd, promoted by Adar Poonawalla who also heads Serum Institute, will purchase 458 million shares or 60% stake in Magma Fincorp at Rs70 apiece.\n",
      "\n",
      "Also Read | Inside the Mindtree makeover strategy\n",
      "\n",
      "Poonawalla’s company will infuse Rs3,206 crore into Magma Fincorp while existing promoters would put in Rs250 crore. While the deal is considered done by investors, it is still pending regulatory approval. Poonawalla Finance’s manging director Ajay Bhutada will be the MD of Magma Fincorp. A new chief executive officer will be appointed eventually.\n",
      "\n",
      "Magma Fincorp bore the brunt of liquidity crisis among NBFCs and also during the pandemic last year. The company’s liquidity metrics had worsened and its asset quality too had remained elevated over the past several years. According to analysts at ICICI Securities Ltd, the NBFC has been going through different phases of consolidation and reorganisation in the past decade. All these efforts didn’t seem to chip away the bad loan pile or even boost earnings. The company's shares too have hardly moved after dropping sharply in early 2020 in the wake of the pandemic.\n",
      "\n",
      "That said, Magma Fincorp reported decent metrics for the December quarter. It showed improvement in collection efficiencies to 94%, rise in disbursements of vehicle and affordable housing loans and stable yields. But asset under management (AUM) dropped 9.5% from a year ago. Analysts believe that AUM growth would remain subdued even though overall disbursements may increase further.\n",
      "\n",
      "\"The deal with Rising Sun Holdings will infuse the much-needed capital into Magma Fincorp. We assign high probability of superior operating metrics and return profile in the medium term, drawing comfort from strong corporate group backing, greater than 68% capital adequacy ratio (post infusion), improved credit rating outlook, operational synergies and business competitiveness,\" wrote analysts at ICICI Securities Ltd in a note.\n",
      "\n",
      "To be sure, this would resolve the NBFC’s liquidity issues in a big way.\n",
      "\n",
      "Shares of the NBFC surged 10% today after languishing for over a year now. The entry of the new promoter has fired up shares but investors would now watch the actions of the new management in improving business prospects.\n",
      "\n",
      "Subscribe to Mint Newsletters * Enter a valid email * Thank you for subscribing to our newsletter.\n",
      "\n",
      "Share Via\n",
      "State-run RailTel Corp of India Ltd will issue nearly 87.15 million shares to raise over ₹800 crore via an initial public offering. The subscription for offer will open on Tuesday and close on Thursday.\n",
      "\n",
      "The price band for the issue has been fixed at ₹93-94 a share. On upper band price, the firm will raise as much as ₹819.24 crore.\n",
      "\n",
      "Also Read | Inside the Mindtree makeover strategy\n",
      "\n",
      "ICICI Securities, IDBI Capital and SBI Capital Markets are appointed as book running lead managers to the issue.\n",
      "\n",
      "As the objective of the issue is to divest government's stake, the company will not get any proceeds from the offer. Currently, the government holds 100% stake in the company.\n",
      "\n",
      "For the fiscal 2021, the government has set an ambitious ₹2.1 trillion goal for the sale of government holding in state-run companies.\n",
      "\n",
      "The aggressive disinvestment target is also the basis for the government’s hope that it will be able to contain its fiscal deficit at 3.5% of gross domestic product (GDP) in FY21. It had to let its fiscal deficit slip from 3.3% estimated in the budget presented last July to 3.8% of the GDP in the revised estimate presented on 1 February.\n",
      "\n",
      "For fiscal 2020, the company reported a revenue of ₹1128.05 crore, up 12.43% from ₹1,003.27 crore a year ago. Net profit for the period stood at ₹141.07 crore, up 4.21% from ₹135.36 crore a year ago.\n",
      "\n",
      "RailTel is an information and communications technology infrastructure provider and one of the largest neutral telecom infrastructure providers in India. As of June 30, 2020, its optic fiber network covered over 55,000 route kilometers and 5,677 railway stations across towns and cities in India.\n",
      "\n",
      "As of June 2020, the company had exclusive right of way along 67,415 route kilometers connecting 7,321 railway stations for laying optical fiber cable. The company has over 55,000 route kilometers of optical fiber cablenetwork and connected 5,677 railway stations across towns and cities in India.\n",
      "\n",
      "\n",
      "\n",
      "\n",
      "\n",
      "Subscribe to Mint Newsletters * Enter a valid email * Thank you for subscribing to our newsletter.\n",
      "\n",
      "Share Via\n",
      "Union Finance Minister Nirmala Sitharaman will reply on the recently presented Budget discussion tomorrow in Rajya Sabha, according to officials.\n",
      "\n",
      "The discussion on Union Budget 2021-22 started Wednesday in Lok Sabha with Prime Minister Narendra Modi's speech in reply to the Motion of Thanks on the President's address.\n",
      "\n",
      "The Finance Minister presented the Union Budget for the financial year 2021-22 in Lok Sabha on February 1.\n",
      "\n",
      "Presenting the first-ever digital Union Budget, Union Finance Minister Nirmala Sitharaman earlier this month had said that India's fight against COVID-19 continues into 2021.\n",
      "\n",
      "The first part of the budget session will conclude on February 13. The Parliament will again meet on March 8 and the budget session will conclude on April 8, 2021.\n",
      "\n",
      "Meanwhile, Congress MP Rahul Gandhi will speak in Parliament during the Union budget discussion in Lok Sabha today.\n",
      "\n",
      "The Wayanad MP has been critical of the Union Budget presented earlier this month and said that the budget proposals will adversely impact the common man. He has slammed the government's economic policies and has advocated direct cash transfers to the poorest sections to give a boost to the economy.\n",
      "\n",
      "Subscribe to Mint Newsletters * Enter a valid email * Thank you for subscribing to our newsletter.\n",
      "\n",
      "Share Via\n",
      "Amid the rising number of coronavirus cases, Saudi Arabia suspended entry of people for at least 20 countries, including India, said Indian Embassy in Riyadh on on Thursday.\n",
      "\n",
      "Indian Embassy posted its advisory on Twitter mentioning, \"Kingdom of Saudi Arabia vide its circular dated 2nd February 2021 have temporarily suspended entry into the Kingdom for passengers coming from the following 19 countries, in addition to India.\"\n",
      "\n",
      "Saudi Arabia has restricted travel from India, Argentina, the United Arab Emirates, Germany, the United States of America, Indonesia, Ireland, Italy, Pakistan, Brazil, Portugal, United Kingdom, Turkey, South Africa, Sweden, Switzerland, France, Lebanon, Egypt, and Japan.\n",
      "\n",
      "The coronavirus count in Saudi Arabia has reached 371,356, according to Johns Hopkins University. The death toll has increased to 6,415.\n",
      "\n",
      "Subscribe to Mint Newsletters * Enter a valid email * Thank you for subscribing to our newsletter.\n",
      "\n",
      "Share Via\n",
      "NEW DELHI: The US state department overnight Thursday said it was committed to supporting freedom of speech online and offline amid a spat between Twitter and the Indian government over blocking posts with controversial hashtags.\n",
      "\n",
      "“The United States is committed to supporting democratic values and promoting human rights, including freedom of expression online and offline.\n",
      "\n",
      "Also Read | Inside the Mindtree makeover strategy\n",
      "\n",
      "We refer you to Twitter for information on its policies,\" State Department spokesman Ned Price said in response to a question.\n",
      "\n",
      "The tussle between Twitter and the Indian government started late last month when the micro-blogging platform unblocked 250 accounts that used a controversial hashtag referring to Prime Minister Narendra Modi and farmer genocide.\n",
      "\n",
      "The IT ministry had sent a list of 257 handles and tweets to be blocked, and while Twitter blocked them for a few hours, it soon unblocked them.\n",
      "\n",
      "The social media platform said it had taken steps to reduce the visibility of the hashtags containing harmful content, which included prohibiting them from trending on Twitter. It has also taken a range of enforcement actions—including permanent suspension in certain cases—against more than 500 accounts highlighted by MeitY orders for clear violations of Twitter’s rules.\n",
      "\n",
      "Separately, it has withheld a portion of the accounts (tweet, media or thread) identified in the block- ing orders under its country withheld content policy in India only. However, these continue to be available outside of India.\n",
      "\n",
      "On Wednesday, Twitter released a detailed statement on the content removal requests by the government, stating that it has taken action against hundreds of accounts after MeitY issued a non-compliance notice threatening penal action. However, it asserted, none of the action was taken on accounts that consist of news media entities, journalists, activists and politicians.\n",
      "\n",
      "In its response, MeitY described Twitter’s response in a blog post as “unusual\".\n",
      "\n",
      "“Upon the request of Twitter seeking a meeting with the Govt., the Secretary IT was to engage with senior management of Twitter. In this light, a blog post published prior to this engagement is unusual. Govt. will share its response soon,\" MeitY said in its response.\n",
      "\n",
      "Subscribe to Mint Newsletters * Enter a valid email * Thank you for subscribing to our newsletter.\n",
      "\n",
      "Share Via\n"
     ]
    }
   ],
   "source": [
    "url=('\\n'.join(corpus))\n",
    "print(url)"
   ]
  },
  {
   "cell_type": "code",
   "execution_count": 26,
   "metadata": {},
   "outputs": [
    {
     "data": {
      "text/plain": [
       "[]"
      ]
     },
     "execution_count": 26,
     "metadata": {},
     "output_type": "execute_result"
    }
   ],
   "source": [
    "new=[]\n",
    "for d in corpus:\n",
    "    news.append(d.strip())\n",
    "new"
   ]
  },
  {
   "cell_type": "code",
   "execution_count": 22,
   "metadata": {},
   "outputs": [
    {
     "data": {
      "text/plain": [
       "<map at 0x1d4f7373e20>"
      ]
     },
     "execution_count": 22,
     "metadata": {},
     "output_type": "execute_result"
    }
   ],
   "source": []
  },
  {
   "cell_type": "code",
   "execution_count": 164,
   "metadata": {},
   "outputs": [],
   "source": [
    "# from newspaper import Article\n",
    "corpus=''\n",
    "res = requests.get(url)\n",
    "html_page = res.content\n",
    "soup = BeautifulSoup(html_page, 'html.parser')\n",
    "t=soup.find_all('p')\n",
    "for summary in t:\n",
    "    corpus = corpus+\" \"+summary.text\n",
    "\n",
    "# article=Article(url)\n",
    "# article.download()\n",
    "# article.parse()\n",
    "# corpus.append(article.text)"
   ]
  },
  {
   "cell_type": "code",
   "execution_count": 165,
   "metadata": {},
   "outputs": [
    {
     "data": {
      "text/plain": [
       "' \\nReference #7.4e1c2017.1613035602.23fc449\\n'"
      ]
     },
     "execution_count": 165,
     "metadata": {},
     "output_type": "execute_result"
    }
   ],
   "source": [
    "corpus"
   ]
  },
  {
   "cell_type": "code",
   "execution_count": null,
   "metadata": {},
   "outputs": [],
   "source": []
  },
  {
   "cell_type": "code",
   "execution_count": null,
   "metadata": {},
   "outputs": [],
   "source": []
  },
  {
   "cell_type": "code",
   "execution_count": null,
   "metadata": {},
   "outputs": [],
   "source": []
  },
  {
   "cell_type": "code",
   "execution_count": null,
   "metadata": {},
   "outputs": [],
   "source": []
  }
 ],
 "metadata": {
  "kernelspec": {
   "display_name": "Python 3",
   "language": "python",
   "name": "python3"
  },
  "language_info": {
   "codemirror_mode": {
    "name": "ipython",
    "version": 3
   },
   "file_extension": ".py",
   "mimetype": "text/x-python",
   "name": "python",
   "nbconvert_exporter": "python",
   "pygments_lexer": "ipython3",
   "version": "3.8.5"
  }
 },
 "nbformat": 4,
 "nbformat_minor": 4
}
